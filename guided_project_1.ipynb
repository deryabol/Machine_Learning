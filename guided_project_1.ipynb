{
  "cells": [
    {
      "cell_type": "markdown",
      "metadata": {
        "id": "view-in-github",
        "colab_type": "text"
      },
      "source": [
        "<a href=\"https://colab.research.google.com/github/deryabol/Machine_Learning/blob/main/guided_project_1.ipynb\" target=\"_parent\"><img src=\"https://colab.research.google.com/assets/colab-badge.svg\" alt=\"Open In Colab\"/></a>"
      ]
    },
    {
      "cell_type": "markdown",
      "source": [
        "# Chapter 1\n",
        "### Your first day at your new job 👩‍💻👨‍💻\n",
        "\n",
        "You are starting a new job as a junior software developer in an IT company.\n",
        "\n",
        "The company’s HR department asks you to fill out a form, so you start by assigning your personal information to corresponding variables.\n",
        "\n",
        "📌 Create a variable for your name, surname, age, ID number, place of residence, to specify if you have active health insurance or not, and lastly one for specifying your nationality.\n"
      ],
      "metadata": {
        "id": "VMuUK0ap_bRD"
      }
    },
    {
      "cell_type": "code",
      "execution_count": null,
      "metadata": {
        "id": "OPLhhc2Sp-D0"
      },
      "outputs": [],
      "source": [
        "#Please assign your personal information to variables\n",
        "my_name =\"Derya\"\n",
        "my_surname=\"BOL\"\n",
        "my_age=25\n",
        "Id_number=12345678901\n",
        "where_i_live=\"Turkey\"\n",
        "health_insurance=True\n",
        "my_nationality=\"Turkish\""
      ]
    },
    {
      "cell_type": "markdown",
      "metadata": {
        "id": "3zaUlxwcp-D0"
      },
      "source": [
        "###Meet And Greet\n",
        "Introduce yourself to your new co-workers.\n",
        "\n",
        "📌 Use a f-string to print \"My name is Joey Tribbiani I am 25 years old and I live in London”."
      ]
    },
    {
      "cell_type": "code",
      "source": [
        "#Write a sentence using the print function to describe yourself using the variables above in the correct data type\n",
        "print(f\"My name is {my_name} {my_surname} I am {my_age}years old, I live in  {where_i_live} My id number is {Id_number} and I have an  {health_insurance} My nationalitiy is {my_nationality}\")"
      ],
      "metadata": {
        "id": "XNuh5_2WXwvg",
        "colab": {
          "base_uri": "https://localhost:8080/"
        },
        "outputId": "5757364e-dd35-4ff4-8c54-019ec7b9e7f1"
      },
      "execution_count": null,
      "outputs": [
        {
          "output_type": "stream",
          "name": "stdout",
          "text": [
            "My name is Derya BOL I am 25years old, I live in  Turkey My id number is 12345678901 and I have an  True My nationalitiy is Turkish\n"
          ]
        }
      ]
    },
    {
      "cell_type": "markdown",
      "metadata": {
        "id": "EEL9To4ip-D1"
      },
      "source": [
        "### Equipment starter pack\n",
        "The HR department asks you to list the items you would need to improve your work efficiency\n",
        "\n",
        "Mandatory:\n",
        "* Laptop\n",
        "* Headset\n",
        "* Second monitor\n",
        "\n",
        "Optional:\n",
        "* Mousepad\n",
        "* USB drive\n",
        "* External drive\n",
        "\n",
        "\n",
        "📌 Create a shopping list that contains items above and print it."
      ]
    },
    {
      "cell_type": "code",
      "execution_count": null,
      "metadata": {
        "id": "fPFBLDyqp-D2"
      },
      "outputs": [],
      "source": [
        "#Create the item_list\n",
        "item_list=['Laptop', 'Headset', 'Second monitor', 'Mousepad', 'USB drive', 'External drive']"
      ]
    },
    {
      "cell_type": "markdown",
      "source": [],
      "metadata": {
        "id": "RaviotYTVU1C"
      }
    },
    {
      "cell_type": "code",
      "source": [
        "#Print the list\n",
        "print(item_list)"
      ],
      "metadata": {
        "id": "358R_CN5U2-J",
        "colab": {
          "base_uri": "https://localhost:8080/"
        },
        "outputId": "a0391ef6-b5ba-4cc6-d591-00549de6f4b5"
      },
      "execution_count": null,
      "outputs": [
        {
          "output_type": "stream",
          "name": "stdout",
          "text": [
            "['Laptop', 'Headset', 'Second monitor', 'Mousepad', 'USB drive', 'External drive']\n"
          ]
        }
      ]
    },
    {
      "cell_type": "markdown",
      "metadata": {
        "id": "5keEWjCyp-D2"
      },
      "source": [
        "####What is mandatory and what is optional?\n",
        "\n",
        "📌 Use list slicing to devide your list in two list: 'mandatory_item_list' and 'optional_item_list' and print both to the screen."
      ]
    },
    {
      "cell_type": "code",
      "execution_count": null,
      "metadata": {
        "id": "E6ewuDYZp-D2"
      },
      "outputs": [],
      "source": [
        "#Use list slicing to divide the mandatory items\n",
        "mandatory_item_list=item_list[0:3]"
      ]
    },
    {
      "cell_type": "code",
      "source": [
        "#Use list slicing to divide the optional items\n",
        "optional_item_list=item_list[3:6]"
      ],
      "metadata": {
        "id": "hOmkym01RGEL"
      },
      "execution_count": null,
      "outputs": []
    },
    {
      "cell_type": "code",
      "source": [
        "#Print both to the screen\n",
        "print(mandatory_item_list)\n",
        "print(optional_item_list)"
      ],
      "metadata": {
        "id": "xsVv1_msVE1_",
        "colab": {
          "base_uri": "https://localhost:8080/"
        },
        "outputId": "0c8365ca-e1e2-4e3d-f280-394c4d381dc4"
      },
      "execution_count": null,
      "outputs": [
        {
          "output_type": "stream",
          "name": "stdout",
          "text": [
            "['Laptop', 'Headset', 'Second monitor']\n",
            "['Mousepad', 'USB drive', 'External drive']\n"
          ]
        }
      ]
    },
    {
      "cell_type": "markdown",
      "metadata": {
        "id": "s_M1Q93wp-D3"
      },
      "source": [
        "#### Go Shopping\n",
        "Next, you will have to go and purchase these items, the finance department confirmed a budget of $5000.\n",
        "\n",
        "📌 Assign 5000 to a variable called limit, so you know how much you can spend."
      ]
    },
    {
      "cell_type": "code",
      "execution_count": null,
      "metadata": {
        "id": "nCmpm0oqp-D3"
      },
      "outputs": [],
      "source": [
        "#Assign the spending limit value to a variable called limit\n",
        "limit = 5000"
      ]
    },
    {
      "cell_type": "markdown",
      "metadata": {
        "id": "VwbEEymVp-D3"
      },
      "source": [
        "####Price dictionary\n",
        "\n",
        "Before you start shopping yo need to find the best items that you can buy within the company budget.\n",
        "\n",
        "📌 Prepare a dictionary called “price_sheet” that includes the items as keys and the prices as values.  \n"
      ]
    },
    {
      "cell_type": "code",
      "execution_count": null,
      "metadata": {
        "id": "9o9n9Ag-p-D3"
      },
      "outputs": [],
      "source": [
        "#Create a dictionary that contains each item and its price\n",
        "\n",
        "price_sheet = {\n",
        "    \"Laptop\": 1500,\n",
        "    \"Headset\": 75,\n",
        "    \"Second monitor\": 200,\n",
        "    \"Mousepad\": 25,\n",
        "    \"USB drive\": 10,\n",
        "    \"External drive\": 100  # Add price for 'External drive'\n",
        "}"
      ]
    },
    {
      "cell_type": "markdown",
      "metadata": {
        "id": "rUYivBVEBhCv"
      },
      "source": [
        "####Shopping functions\n",
        "\n",
        "You need to define three functions that will help you during shopping.\n",
        "\n",
        "📌 First, create an empty list that  will be your shopping cart. Here you will add the items you need to purchase.\n",
        "\n",
        "1. Define a function for both adding items to the cart and removing them from the item_list.\n",
        "\n",
        "📌 The \"add_to_cart\" function should take the item name and the quantity to buy as an argument.\n",
        "\n",
        "2. Define a function that will create an invoice.\n",
        "\n",
        "📌 The \"create_invoice\" function should calculate the taxes of each item (18%) and add it to the total amount.\n",
        "\n",
        "3. Define a function for the checkout.\n",
        "\n",
        "📌 The \"checkout\" function should subtract the total amount from the budget and print a statement to inform if the payment was successful."
      ]
    },
    {
      "cell_type": "code",
      "source": [
        "#Initialize the cart list\n",
        "cart =[]"
      ],
      "metadata": {
        "id": "dBNZ2ZdkGHUe"
      },
      "execution_count": null,
      "outputs": []
    },
    {
      "cell_type": "code",
      "source": [
        "#Define the \"add_to_cart\" function\n",
        "def add_to_cart (item, quantity):\n",
        "  cart.append((item, quantity))\n",
        "  item_list.remove(item)"
      ],
      "metadata": {
        "id": "HH26hHHFGKPJ"
      },
      "execution_count": null,
      "outputs": []
    },
    {
      "cell_type": "code",
      "source": [
        "#Define the \"create_invoice\" function\n",
        "def create_invoice():\n",
        "  total_amount_inc_tax =0\n",
        "  for item, quantity in cart:\n",
        "    price = price_sheet[item]\n",
        "    tax= 0.18 *price\n",
        "    total =(tax +price) *quantity\n",
        "    total_amount_inc_tax +=total\n",
        "    print('Item:', item, '\\t', 'Price:', price, '\\t', 'Quantity:', quantity, '\\t', 'Tax:', tax, '\\t', 'Total:', total, '\\n')\n",
        "  print(\"After the taxes are applied the total amount is:\", '\\t', total_amount_inc_tax)\n",
        "  return total_amount_inc_tax"
      ],
      "metadata": {
        "id": "TUmNr4xVGQdm"
      },
      "execution_count": null,
      "outputs": []
    },
    {
      "cell_type": "code",
      "source": [
        "#Define the \"checkout\" function\n",
        "def checkout():\n",
        "  global limit\n",
        "  total_amount = create_invoice()\n",
        "  if limit == 0:\n",
        "    print(\"You don't have any budget\")\n",
        "  elif total_amount > limit:\n",
        "      print(\" The amount you have to pay is above the spending limit. You have to drop some items.\")\n",
        "  else:\n",
        "        limit -=total_amount\n",
        "        print(f\"The total amount (incl. taxes) you've paid is {total_amount}. You have {limit} dollars left\")\n"
      ],
      "metadata": {
        "id": "iUlKiXgMGdIk"
      },
      "execution_count": null,
      "outputs": []
    },
    {
      "cell_type": "markdown",
      "source": [
        "Let's shop!"
      ],
      "metadata": {
        "id": "2IFUlu0yB0In"
      }
    },
    {
      "cell_type": "code",
      "source": [
        "#Call the \"add_to_cart\" function for each item\n",
        "\n",
        "#Add first item to cart\n",
        "add_to_cart(\"Laptop\", 1)\n",
        "\n",
        "#Add second item to cart\n",
        "add_to_cart(\"Headset\", 8)\n",
        "\n",
        "#Add third item to cart\n",
        "add_to_cart(\"Second monitor\", 1)\n",
        "\n",
        "#Add fourth item to cart\n",
        "add_to_cart(\"Mousepad\", 1)\n",
        "\n",
        "#Add fifth item to cart\n",
        "add_to_cart(\"USB drive\", 2)\n",
        "#Add last item to cart\n",
        "add_to_cart(\"External drive\", 4)\n",
        "#Call the create \"checkout\" function to pay for all your items\n",
        "checkout()"
      ],
      "metadata": {
        "id": "FDO7CRJTWPg7",
        "colab": {
          "base_uri": "https://localhost:8080/"
        },
        "outputId": "117fd29f-08f9-472c-9c8a-838e4d73bb61"
      },
      "execution_count": null,
      "outputs": [
        {
          "output_type": "stream",
          "name": "stdout",
          "text": [
            "Item: Laptop \t Price: 1500 \t Quantity: 1 \t Tax: 270.0 \t Total: 1770.0 \n",
            "\n",
            "Item: Headset \t Price: 75 \t Quantity: 8 \t Tax: 13.5 \t Total: 708.0 \n",
            "\n",
            "Item: Second monitor \t Price: 200 \t Quantity: 1 \t Tax: 36.0 \t Total: 236.0 \n",
            "\n",
            "Item: Mousepad \t Price: 25 \t Quantity: 1 \t Tax: 4.5 \t Total: 29.5 \n",
            "\n",
            "Item: USB drive \t Price: 10 \t Quantity: 2 \t Tax: 1.7999999999999998 \t Total: 23.6 \n",
            "\n",
            "Item: External drive \t Price: 100 \t Quantity: 4 \t Tax: 18.0 \t Total: 472.0 \n",
            "\n",
            "After the taxes are applied the total amount is: \t 3239.1\n",
            "The total amount (incl. taxes) you've paid is 3239.1. You have 1760.9 dollars left\n"
          ]
        }
      ]
    },
    {
      "cell_type": "markdown",
      "source": [
        "###Game Night\n",
        "\n",
        "You are back at the office and the HR department organizes a welcome party for new employees.\n",
        "\n",
        "You decide to create a Rock-Paper-Scissor game.\n",
        "\n",
        "📌 Create a Rock-Paper-Scissor game in which the user plays against the computer. The player will choose one of the actions, and the computer will choose its action randomly.\n"
      ],
      "metadata": {
        "id": "ZL-r2x_xKixg"
      }
    },
    {
      "cell_type": "code",
      "source": [
        "#Import the random library\n",
        "import random"
      ],
      "metadata": {
        "id": "qzD5pxBTgcFb"
      },
      "execution_count": null,
      "outputs": []
    },
    {
      "cell_type": "code",
      "source": [
        "#create a list containing the three actions of the game.\n",
        "action_list=[\"rock\",\"paper\", \"scissors\"]"
      ],
      "metadata": {
        "id": "oJv-ihLAgcRo"
      },
      "execution_count": null,
      "outputs": []
    },
    {
      "cell_type": "code",
      "source": [
        "#Set the scores of players to 0\n",
        "computer_score=0\n",
        "player_score=0\n",
        "\n",
        "#Ask the user how many rounds they want to play\n",
        "total_rounds=input(\"How many rounds do you want to play? Please enter a number please here:\")\n",
        "\n",
        "#Add a round_counter that is 0 at the beginning\n",
        "round_counter=0\n",
        "\n",
        "#Write a while loop and put the game inside\n",
        "while True:\n",
        "\n",
        "  #Increase round_counter by and print it\n",
        "  round_counter +=1\n",
        "  print(\"Round number:\", round_counter)\n",
        "\n",
        "\n",
        "\n",
        "  #Select a random action for computer\n",
        "  computer_choice =random.choice(action_list)\n",
        "\n",
        "  #Ask player to choose an action\n",
        "  player_choice=input(\"Please choose your action:\")\n",
        "\n",
        "  #Print the players choices\n",
        "\n",
        "  print(\"Computer:\", computer_choice)\n",
        "  print(\"Player:\", player_choice)\n",
        "\n",
        "\n",
        "  #tie condition\n",
        "\n",
        "  if computer_choice == player_choice:\n",
        "    print(\"Tie! Both players chose the same action.\")\n",
        "\n",
        "  #Remaining conditions\n",
        "\n",
        "  elif computer_choice == \"paper\":\n",
        "    if player_choice ==\"rock\":\n",
        "      print (\"winner is : Computer\")\n",
        "      computer_score +=1\n",
        "    else:\n",
        "      print(\"Winner is: Player\")\n",
        "      player_score +=1\n",
        "  elif computer_choice == \"rock\":\n",
        "    if player_choice == \"paper\":\n",
        "      print(\"Winner is: Player\")\n",
        "      player_score +=1\n",
        "    else:\n",
        "      print(\"Winner is: Computer\")\n",
        "      computer_score +=1\n",
        "  elif computer_choice == \"scissors\":\n",
        "    if player_choice == \"paper\":\n",
        "      print(\"Winner is: Computer\")\n",
        "      computer_score +=1\n",
        "    else:\n",
        "      print(\"Winner is: Player\")\n",
        "      player_score +=1\n",
        "\n",
        "\n",
        "\n",
        "\n",
        "\n",
        "  #Stop the while loop if the round_counter equals the number of total rounds\n",
        "\n",
        "  if round_counter == int(total_rounds):\n",
        "        break  # Indent this line to be inside the while loop\n",
        "\n",
        "#Print the outcome of the game by using conditional statements\n",
        "if computer_score == player_score:\n",
        "  print(\"There is no winner, tie.\", computer_score, \":\", player_score)\n",
        "elif computer_score > player_score:\n",
        "  print(\"Computer won with score\", computer_score, \":\", player_score)\n",
        "elif computer_score < player_score:\n",
        "    print(\"Player won with score\", computer_score, \":\", player_score)\n"
      ],
      "metadata": {
        "id": "DNUa_9afWqMd",
        "colab": {
          "base_uri": "https://localhost:8080/"
        },
        "outputId": "cd5023f2-7c4c-469a-fce5-f66f2ffd770d"
      },
      "execution_count": null,
      "outputs": [
        {
          "output_type": "stream",
          "name": "stdout",
          "text": [
            "How many rounds do you want to play? Please enter a number please here:2\n",
            "Round number: 1\n",
            "Please choose your action:rock\n",
            "Computer: paper\n",
            "Player: rock\n",
            "winner is : Computer\n",
            "Round number: 2\n",
            "Please choose your action:rock\n",
            "Computer: paper\n",
            "Player: rock\n",
            "winner is : Computer\n",
            "Computer won with score 2 : 0\n"
          ]
        }
      ]
    },
    {
      "cell_type": "markdown",
      "metadata": {
        "id": "jdrYN0Xgp-D6"
      },
      "source": [
        "# Your first task\n",
        "\n",
        "Rachel asks you to write a program to track the name and revenue each employee brings.  \n",
        "\n",
        "* Create the \"salesperson_revenue\" dictionary to see the employee name as a key and the revenue as a value.\n",
        "\n",
        "  📌 Every employee starts with 0 revenue.\n",
        "* Define the \"enter_revenue\" function.\n",
        "\n",
        "  📌 The function takes the name and revenue as an argument and updates the salesperson_revenue dictionary.\n"
      ]
    },
    {
      "cell_type": "code",
      "source": [
        "#Create salesperson_revenue dictionary\n",
        "salesperson_revenue = {\n",
        "    \"Ben\": 0,\n",
        "    \"Omer\": 0,\n",
        "    \"Karen\": 0,\n",
        "    \"Celine\": 0,\n",
        "    \"Sue\": 0,\n",
        "}\n",
        "\n"
      ],
      "metadata": {
        "id": "3vzRo7hyMRv2"
      },
      "execution_count": null,
      "outputs": []
    },
    {
      "cell_type": "code",
      "source": [
        "#Define enter_revenue function\n",
        "\n",
        "def enter_revenue(name, revenue):\n",
        "  global salesperson_revenue\n",
        "  salesperson_revenue[name] +=revenue"
      ],
      "metadata": {
        "id": "m-8IozBwMRzM"
      },
      "execution_count": null,
      "outputs": []
    },
    {
      "cell_type": "markdown",
      "source": [
        "####Try out the functions\n",
        "* In a while loop ask the user to give the name of the employee and for the revenue\n",
        "\n",
        "  📌 If the user enters “quit” the loop should break.\n",
        "\n",
        "After that, print out the salesperson_revenue dictionary.\n"
      ],
      "metadata": {
        "id": "UnTGSoNTi58u"
      }
    },
    {
      "cell_type": "code",
      "source": [
        "#Asking user employee name as input\n",
        "while True:\n",
        "  name =input(\"Employee name:\")\n",
        "  if name == \"quit\":\n",
        "    break\n",
        "  revenue =int(input(\"Enter revenue:\"))\n",
        "  enter_revenue(name, revenue)\n",
        "  print(f\"{name}'s revenue is {salesperson_revenue[name]}\")\n"
      ],
      "metadata": {
        "id": "2E549VvFXNi6",
        "colab": {
          "base_uri": "https://localhost:8080/"
        },
        "outputId": "6340c5dc-fbf6-499b-fe7e-1aa16f898899"
      },
      "execution_count": null,
      "outputs": [
        {
          "name": "stdout",
          "output_type": "stream",
          "text": [
            "Employee name:Ben\n",
            "Enter revenue:20\n",
            "Ben's revenue is 20\n",
            "Employee name:Ben\n",
            "Enter revenue:20\n",
            "Ben's revenue is 40\n",
            "Employee name:Omer\n",
            "Enter revenue:300\n",
            "Omer's revenue is 300\n",
            "Employee name:Omer\n",
            "Enter revenue:30\n",
            "Omer's revenue is 330\n",
            "Employee name:quit\n"
          ]
        }
      ]
    },
    {
      "cell_type": "code",
      "source": [
        "#Print the salesperson_revenue dictionary\n",
        "print(salesperson_revenue)"
      ],
      "metadata": {
        "id": "OAvl9rgOXPe6",
        "colab": {
          "base_uri": "https://localhost:8080/"
        },
        "outputId": "6c8d5cf6-482a-45ea-c306-c9bd7adb3f3c"
      },
      "execution_count": null,
      "outputs": [
        {
          "output_type": "stream",
          "name": "stdout",
          "text": [
            "{'Ben': 40, 'Omer': 330, 'Karen': 0, 'Celine': 0, 'Sue': 0}\n"
          ]
        }
      ]
    }
  ],
  "metadata": {
    "interpreter": {
      "hash": "c5914ae3790566b9cd0e984a9bdda42a29da8adf046b5ac0173e0d37aacf3dab"
    },
    "kernelspec": {
      "display_name": "Python 3.9.7",
      "language": "python",
      "name": "python3"
    },
    "language_info": {
      "codemirror_mode": {
        "name": "ipython",
        "version": 3
      },
      "file_extension": ".py",
      "mimetype": "text/x-python",
      "name": "python",
      "nbconvert_exporter": "python",
      "pygments_lexer": "ipython3",
      "version": "3.9.7"
    },
    "orig_nbformat": 4,
    "colab": {
      "provenance": [],
      "include_colab_link": true
    }
  },
  "nbformat": 4,
  "nbformat_minor": 0
}